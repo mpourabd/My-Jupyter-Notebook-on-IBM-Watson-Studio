{
 "cells": [
  {
   "cell_type": "markdown",
   "id": "1ed52744-1e16-4078-bb0e-bd97e49ea852",
   "metadata": {},
   "source": [
    "<h1>My Jupyter Notebook on IBM Watson Studio</h1>"
   ]
  },
  {
   "cell_type": "markdown",
   "id": "578f81ff-504a-4dc8-9669-99818a4720c7",
   "metadata": {},
   "source": [
    "**Masoumeh Pourabd**\n",
    "<br>Masoumeh Pourabd"
   ]
  },
  {
   "cell_type": "markdown",
   "id": "cb3fc9c1-b2c9-417e-8a4d-1f6aa8842cf5",
   "metadata": {},
   "source": [
    "*I'm interested in data science to gain insight from data and I can use all the mathematics I learned throughout my education.*"
   ]
  },
  {
   "cell_type": "markdown",
   "id": "463f26ad-40a9-4ed6-9e66-4c2b5d880558",
   "metadata": {},
   "source": [
    "### The code below executed as summation of \"4+3=7\""
   ]
  },
  {
   "cell_type": "code",
   "execution_count": 1,
   "id": "dee82faa-4618-4eae-9f7a-0c94733ac0f9",
   "metadata": {},
   "outputs": [
    {
     "data": {
      "text/plain": [
       "7"
      ]
     },
     "execution_count": 1,
     "metadata": {},
     "output_type": "execute_result"
    }
   ],
   "source": [
    "3+4\n"
   ]
  },
  {
   "cell_type": "markdown",
   "id": "915f652b-6a10-4977-a3e9-86b097834050",
   "metadata": {},
   "source": [
    "<hr>\n",
    "<br>\n",
    "<ol>\n",
    "    <li>1</li>\n",
    "    <li>2</li>\n",
    "    <li>3</li>\n",
    "</ol>\n",
    "<a href=\"\"> </a>"
   ]
  },
  {
   "cell_type": "code",
   "execution_count": null,
   "id": "66bbb8f0-f0bc-45ca-8ff7-786e245f5e29",
   "metadata": {},
   "outputs": [],
   "source": []
  },
  {
   "cell_type": "code",
   "execution_count": 3,
   "id": "dad23e6d-0323-45b7-9e36-daa3650c058c",
   "metadata": {},
   "outputs": [],
   "source": [
    "import pandas as pd\n",
    "import numpy as np\n",
    "import seaborn as sns                       #visualisation\n",
    "import matplotlib.pyplot as plt             #visualisation\n",
    "%matplotlib inline     \n",
    "sns.set(color_codes=True)"
   ]
  },
  {
   "cell_type": "code",
   "execution_count": 4,
   "id": "8f0426a8-3399-4f13-802d-e45f44a7ad83",
   "metadata": {},
   "outputs": [],
   "source": [
    "data=pd.read_excel('VAC.xlsx', engine='openpyxl')"
   ]
  },
  {
   "cell_type": "code",
   "execution_count": 5,
   "id": "9ef12d4a-42bc-4336-a7c1-0768a974cb1a",
   "metadata": {},
   "outputs": [
    {
     "data": {
      "text/html": [
       "<div>\n",
       "<style scoped>\n",
       "    .dataframe tbody tr th:only-of-type {\n",
       "        vertical-align: middle;\n",
       "    }\n",
       "\n",
       "    .dataframe tbody tr th {\n",
       "        vertical-align: top;\n",
       "    }\n",
       "\n",
       "    .dataframe thead th {\n",
       "        text-align: right;\n",
       "    }\n",
       "</style>\n",
       "<table border=\"1\" class=\"dataframe\">\n",
       "  <thead>\n",
       "    <tr style=\"text-align: right;\">\n",
       "      <th></th>\n",
       "      <th>HD</th>\n",
       "      <th>MD</th>\n",
       "      <th>Number</th>\n",
       "      <th>I</th>\n",
       "      <th>Death</th>\n",
       "      <th>CV1</th>\n",
       "      <th>CV2</th>\n",
       "      <th>Vaccine doses I</th>\n",
       "      <th>Vaccine doses II</th>\n",
       "      <th>Infected</th>\n",
       "    </tr>\n",
       "  </thead>\n",
       "  <tbody>\n",
       "    <tr>\n",
       "      <th>0</th>\n",
       "      <td>1400-01-25</td>\n",
       "      <td>2021-04-14</td>\n",
       "      <td>1</td>\n",
       "      <td>25582</td>\n",
       "      <td>304</td>\n",
       "      <td>361951</td>\n",
       "      <td>100691</td>\n",
       "      <td>361951</td>\n",
       "      <td>100691</td>\n",
       "      <td>25582</td>\n",
       "    </tr>\n",
       "    <tr>\n",
       "      <th>1</th>\n",
       "      <td>1400-01-26</td>\n",
       "      <td>2021-04-15</td>\n",
       "      <td>2</td>\n",
       "      <td>25078</td>\n",
       "      <td>321</td>\n",
       "      <td>365160</td>\n",
       "      <td>102711</td>\n",
       "      <td>3209</td>\n",
       "      <td>2020</td>\n",
       "      <td>25078</td>\n",
       "    </tr>\n",
       "    <tr>\n",
       "      <th>2</th>\n",
       "      <td>1400-01-27</td>\n",
       "      <td>2021-04-16</td>\n",
       "      <td>3</td>\n",
       "      <td>25261</td>\n",
       "      <td>328</td>\n",
       "      <td>372362</td>\n",
       "      <td>112108</td>\n",
       "      <td>7202</td>\n",
       "      <td>9397</td>\n",
       "      <td>25261</td>\n",
       "    </tr>\n",
       "    <tr>\n",
       "      <th>3</th>\n",
       "      <td>1400-01-28</td>\n",
       "      <td>2021-04-17</td>\n",
       "      <td>4</td>\n",
       "      <td>21312</td>\n",
       "      <td>319</td>\n",
       "      <td>376684</td>\n",
       "      <td>121803</td>\n",
       "      <td>4322</td>\n",
       "      <td>9695</td>\n",
       "      <td>21312</td>\n",
       "    </tr>\n",
       "    <tr>\n",
       "      <th>4</th>\n",
       "      <td>1400-01-29</td>\n",
       "      <td>2021-04-18</td>\n",
       "      <td>5</td>\n",
       "      <td>21644</td>\n",
       "      <td>405</td>\n",
       "      <td>389266</td>\n",
       "      <td>127594</td>\n",
       "      <td>12582</td>\n",
       "      <td>5791</td>\n",
       "      <td>21644</td>\n",
       "    </tr>\n",
       "  </tbody>\n",
       "</table>\n",
       "</div>"
      ],
      "text/plain": [
       "           HD         MD  Number      I  Death     CV1     CV2  \\\n",
       "0  1400-01-25 2021-04-14       1  25582    304  361951  100691   \n",
       "1  1400-01-26 2021-04-15       2  25078    321  365160  102711   \n",
       "2  1400-01-27 2021-04-16       3  25261    328  372362  112108   \n",
       "3  1400-01-28 2021-04-17       4  21312    319  376684  121803   \n",
       "4  1400-01-29 2021-04-18       5  21644    405  389266  127594   \n",
       "\n",
       "   Vaccine doses I  Vaccine doses II  Infected  \n",
       "0           361951            100691     25582  \n",
       "1             3209              2020     25078  \n",
       "2             7202              9397     25261  \n",
       "3             4322              9695     21312  \n",
       "4            12582              5791     21644  "
      ]
     },
     "execution_count": 5,
     "metadata": {},
     "output_type": "execute_result"
    }
   ],
   "source": [
    "data.head(5)  "
   ]
  },
  {
   "cell_type": "code",
   "execution_count": null,
   "id": "75934dde-5342-4e0e-a62f-0430df7073a8",
   "metadata": {},
   "outputs": [],
   "source": []
  }
 ],
 "metadata": {
  "kernelspec": {
   "display_name": "Python 3 (ipykernel)",
   "language": "python",
   "name": "python3"
  },
  "language_info": {
   "codemirror_mode": {
    "name": "ipython",
    "version": 3
   },
   "file_extension": ".py",
   "mimetype": "text/x-python",
   "name": "python",
   "nbconvert_exporter": "python",
   "pygments_lexer": "ipython3",
   "version": "3.10.7"
  }
 },
 "nbformat": 4,
 "nbformat_minor": 5
}
